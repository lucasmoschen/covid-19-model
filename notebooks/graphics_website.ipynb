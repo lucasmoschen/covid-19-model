{
 "metadata": {
  "language_info": {
   "codemirror_mode": {
    "name": "ipython",
    "version": 3
   },
   "file_extension": ".py",
   "mimetype": "text/x-python",
   "name": "python",
   "nbconvert_exporter": "python",
   "pygments_lexer": "ipython3",
   "version": "3.7.3-final"
  },
  "orig_nbformat": 2,
  "kernelspec": {
   "name": "python37364bitbase6782713bed674ed7a26121bd52530782",
   "display_name": "Python 3.7.3 64-bit ('base')",
   "language": "python"
  }
 },
 "nbformat": 4,
 "nbformat_minor": 2,
 "cells": [
  {
   "source": [
    "# Graphics for the website \n",
    "\n",
    "Generate the graphics for the scenarios in the website. "
   ],
   "cell_type": "markdown",
   "metadata": {}
  },
  {
   "cell_type": "code",
   "execution_count": 35,
   "metadata": {},
   "outputs": [],
   "source": [
    "import pandas as pd \n",
    "import matplotlib.pyplot as plt\n",
    "import seaborn as sns\n",
    "\n",
    "sns.set()"
   ]
  },
  {
   "cell_type": "code",
   "execution_count": 48,
   "metadata": {},
   "outputs": [],
   "source": [
    "scenario1 = pd.read_csv('../data/variables/scenario1_web.txt', index_col=0).transpose()\n",
    "scenario2 = pd.read_csv('../data/variables/scenario2_web.txt', index_col=0).transpose()\n",
    "scenario3 = pd.read_csv('../data/variables/scenario3_web.txt', index_col=0).transpose()\n",
    "scenario4 = pd.read_csv('../data/variables/scenario4_web.txt', index_col=0).transpose()"
   ]
  },
  {
   "cell_type": "code",
   "execution_count": 49,
   "metadata": {},
   "outputs": [],
   "source": [
    "death1 = scenario1['D']\n",
    "death2 = scenario2['D']\n",
    "death3 = scenario3['D']\n",
    "death4 = scenario4['D']\n",
    "\n",
    "deaths = pd.DataFrame({'Scenario 1': death1, \n",
    "                       'Scenario 2': death2, \n",
    "                       'Scenario 3': death3, \n",
    "                       'Scenario 4': death4})"
   ]
  },
  {
   "cell_type": "code",
   "execution_count": 53,
   "metadata": {},
   "outputs": [],
   "source": [
    "cumulative1 = 1 - (scenario1['Sf'] + scenario1['Sr'])\n",
    "cumulative2 = 1 - (scenario2['Sf'] + scenario2['Sr'])\n",
    "cumulative3 = 1 - (scenario3['Sf'] + scenario3['Sr'])\n",
    "cumulative4 = 1 - (scenario4['Sf'] + scenario4['Sr'])\n",
    "\n",
    "\n",
    "cumulatives = pd.DataFrame({'Scenario 1': cumulative1, \n",
    "                       'Scenario 2': cumulative2, \n",
    "                       'Scenario 3': cumulative3, \n",
    "                       'Scenario 4': cumulative4})"
   ]
  },
  {
   "cell_type": "code",
   "execution_count": null,
   "metadata": {},
   "outputs": [],
   "source": []
  }
 ]
}