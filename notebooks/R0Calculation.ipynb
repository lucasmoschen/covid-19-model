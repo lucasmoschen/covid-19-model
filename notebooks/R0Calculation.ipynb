{
 "cells": [
  {
   "cell_type": "markdown",
   "metadata": {},
   "source": [
    "# COVID-19 Model \n",
    "\n",
    "It's assumed the people are indicated to do a quarantine, reducing their contact to $100r$ of their usual contacts.\n",
    "\n",
    "Consider some parameters: \n",
    "\n",
    "| Parameter | Explanation |\n",
    "|-----| ----------------------------------------|\n",
    "| $p$ | fraction of population in $r$-isolation |\n",
    "| $\\tau$ | inverse of the latent time |\n",
    "| $\\sigma$ | inverse of time before clear symptoms such to ensure isolation or testing of the subject |\n",
    "| $\\theta$ | $\\tau + \\sigma$ inverse of mean incubation time | \n",
    "| $\\alpha$ | asymptomatic rate |\n",
    "| $\\delta$ | probability of positive test in compartment $E$ |\n",
    "| $\\gamma_1$ | recovery rate for asymptomatic or mild symptoms|\n",
    "| $\\gamma_2$ | recovery rate for $Q$ |\n",
    "| $\\mu$ | mortality rate of infected symptomatic |\n",
    "| $\\beta(t)$ |contact rate among people free to move |\n",
    "| $\\rho(t)$ | proportion of tests done in no infected with severe symptoms |\n",
    "| $r(t)$ | reduction coefficient of contact rate |\n",
    "\n",
    "## SEIR with Q model\n",
    "\n",
    "Consider the state $X = (E_f, E_r, I_f, I_r, A_f, A_r, Q, S_f, S_r, R, D)$, where\n",
    "\n",
    "| State | Explanation |\n",
    "| ----- | ---------------------------------------------------- |\n",
    "| $E_f$ | exposed, not in isolation, not contagious |\n",
    "| $E_r$ | exposed, in volunteer $r$-isolation, not contagious |\n",
    "| $I_f$ | asymptomatic infected, not in isolation | \n",
    "| $I_r$ | asymptpmatic infected, in volunteer $r$-isolation |\n",
    "| $A_f$ | Asymptomatic and contagious, not in isolation |\n",
    "| $A_r$ | Asymptomatic and contagious, r-isolation |\n",
    "| $Q$ | infected and tested positive, in enforced quarantine | \n",
    "| $S_f$ | susceptible not in isolation |\n",
    "| $S_q$ | susceptible in volunteer $r$-isolation |\n",
    "| $R$ | recovered and immune |\n",
    "| $D$ | deaths |\n",
    "\n",
    "The dynamics is described as follows:\n",
    "\n",
    "$$\n",
    "    \\begin{array}{l}\n",
    "    \\dot{E}_f = \\beta(t) S_f [I_f + A_f + r(t)(I_r + A_r) + \\epsilon Q] - \\rho(t)\\delta E_f - \\tau E_f \\\\[0.5ex]\n",
    "    \\dot{E}_r = r(t) \\beta(t) S_r [I_f + A_f + r(t)(I_r + A_r) + \\epsilon Q] - \\rho(t)\\delta E_r - \\tau E_r \\\\[0.5ex]\n",
    "    \\dot{I}_f = \\tau E_f - \\sigma I_f - \\rho(t)I_f \\\\[0.5ex]\n",
    "    \\dot{I}_r = \\tau E_r - \\sigma I_r - \\rho(t)I_r  \\\\[0.5ex]\n",
    "    \\dot{A}_f = \\sigma\\alpha I_f - \\rho(t)A_f - \\gamma_1 A_f \\\\[0.5ex]\n",
    "    \\dot{A}_r = \\sigma\\alpha I_r - \\rho(t)A_r - \\gamma_1 A_r \\\\[0.5ex]\n",
    "    \\dot{Q} = \\sigma (1-\\alpha) [I_f + I_r] + \\rho(t)(\\delta(E_f + E_r) + I_f + I_r + A_f + A_r) - \\gamma_2 Q - \\mu Q \\\\[0.5ex]\n",
    "    \\dot{S}_f = -\\beta(t)S_f [I_f + A_f + r(t)(I_r + A_r) + \\epsilon Q] \\\\[0.5ex]\n",
    "    \\dot{S}_r = -r(t)\\beta(t)S_r [I_f + A_f + r(t)(I_r + A_r) + \\epsilon Q] \\\\[0.5ex]\n",
    "    \\dot{R} = \\gamma_1 (A_f + A_r) + \\gamma_2 Q \\\\[0.5ex]\n",
    "    \\dot{D} = \\mu Q\n",
    "    \\end{array}\n",
    "$$"
   ]
  },
  {
   "cell_type": "markdown",
   "metadata": {},
   "source": [
    "#### Importing modules"
   ]
  },
  {
   "cell_type": "code",
   "execution_count": 1,
   "metadata": {},
   "outputs": [],
   "source": [
    "import sympy as sp\n",
    "import numpy as np\n",
    "sp.init_printing(use_unicode = True)\n",
    "\n",
    "from paths import *\n",
    "from pyscripts.dynamics_model import Dynamics\n",
    "from pyscripts.calc_r0 import calc_R0"
   ]
  },
  {
   "cell_type": "markdown",
   "metadata": {},
   "source": [
    "## Calculating $R_0$"
   ]
  },
  {
   "cell_type": "markdown",
   "metadata": {},
   "source": [
    "#### Using symbolic programming"
   ]
  },
  {
   "cell_type": "code",
   "execution_count": 2,
   "metadata": {},
   "outputs": [],
   "source": [
    "t, tau, sigma, alpha, delta, epsilon, gamma1, gamma2, mu, p = sp.symbols('t tau sigma alpha delta epsilon gamma1 gamma2 mu p')\n",
    "beta, r, rho = sp.Function(\"beta\"), sp.Function(\"r\"), sp.Function(\"rho\")\n",
    "#beta, r, rho = sp.symbols('beta r rho')\n",
    "Ef, Er, If, Ir, Af, Ar, Q, Sf, Sr, R, D, T = sp.symbols('Ef Er If Ir Af Ar Q Sf Sr R D T')"
   ]
  },
  {
   "cell_type": "markdown",
   "metadata": {},
   "source": [
    "#### Calculating $B_{\\lambda}$ "
   ]
  },
  {
   "cell_type": "code",
   "execution_count": 3,
   "metadata": {},
   "outputs": [],
   "source": [
    "X = [Ef, Er, If, Ir, Af, Ar, Q, Sf, Sr, R, D, T]\n",
    "Diff = Dynamics(beta, r, tau, sigma, alpha, rho, delta, epsilon, gamma1, gamma2, mu)\n",
    "\n",
    "fX = [Diff.diffEf(t,X), Diff.diffEr(t,X), Diff.diffIf(t,X), Diff.diffIr(t,X), Diff.diffAf(t,X), Diff.diffAr(t,X),\n",
    "      Diff.diffQ(t,X), Diff.diffSf(t,X), Diff.diffSr(t,X)]\n",
    "\n",
    "determine_R0 = calc_R0(X[:-3], [Ef, Er, If, Ir, Af, Ar, Q], fX)"
   ]
  },
  {
   "cell_type": "code",
   "execution_count": 4,
   "metadata": {},
   "outputs": [],
   "source": [
    "eigen = sp.symbols(\"lambda\")\n",
    "Blambda = determine_R0.Jacobian[0:7, 0:7] - eigen*sp.eye(7)\n",
    "Blambda = Blambda.subs({Sf: 1- p, Sr: p})\n",
    "Blambda = sp.Matrix(Blambda)"
   ]
  },
  {
   "cell_type": "markdown",
   "metadata": {},
   "source": [
    "We can see that $\\lambda_1 = -\\rho(t) - \\gamma_1$, because $det(B_{\\lambda}) = \\alpha^2 \\sigma^2 \\tau^2 \\cdot det(b)$, where $b = [b14, b15, b16; b24, b25, b26; b64, b65, b66]$ has determinant 0. Also, because of first and second lines are proportional, $\\lambda_2 = -\\tau - \\delta\\cdot\\rho(t)$. We found, also that $\\lambda_3 = - \\sigma - \\rho(t) $"
   ]
  },
  {
   "cell_type": "code",
   "execution_count": 5,
   "metadata": {},
   "outputs": [
    {
     "data": {
      "image/png": "[encoded data removed]",
      "text/latex": [
       "$\\displaystyle \\left[\\begin{matrix}- \\delta \\rho{\\left(t \\right)} - \\lambda - \\tau & 0 & \\left(1 - p\\right) \\beta{\\left(t \\right)} & \\left(1 - p\\right) \\beta{\\left(t \\right)} r{\\left(t \\right)} & \\left(1 - p\\right) \\beta{\\left(t \\right)} & \\left(1 - p\\right) \\beta{\\left(t \\right)} r{\\left(t \\right)} & \\epsilon \\left(1 - p\\right) \\beta{\\left(t \\right)}\\\\0 & - \\delta \\rho{\\left(t \\right)} - \\lambda - \\tau & p \\beta{\\left(t \\right)} r{\\left(t \\right)} & p \\beta{\\left(t \\right)} r^{2}{\\left(t \\right)} & p \\beta{\\left(t \\right)} r{\\left(t \\right)} & p \\beta{\\left(t \\right)} r^{2}{\\left(t \\right)} & \\epsilon p \\beta{\\left(t \\right)} r{\\left(t \\right)}\\\\\\tau & 0 & - \\lambda - \\sigma - \\rho{\\left(t \\right)} & 0 & 0 & 0 & 0\\\\0 & \\tau & 0 & - \\lambda - \\sigma - \\rho{\\left(t \\right)} & 0 & 0 & 0\\\\0 & 0 & \\alpha \\sigma & 0 & - \\gamma_{1} - \\lambda - \\rho{\\left(t \\right)} & 0 & 0\\\\0 & 0 & 0 & \\alpha \\sigma & 0 & - \\gamma_{1} - \\lambda - \\rho{\\left(t \\right)} & 0\\\\\\delta \\rho{\\left(t \\right)} & \\delta \\rho{\\left(t \\right)} & \\sigma \\left(1 - \\alpha\\right) + \\rho{\\left(t \\right)} & \\sigma \\left(1 - \\alpha\\right) + \\rho{\\left(t \\right)} & \\rho{\\left(t \\right)} & \\rho{\\left(t \\right)} & - \\gamma_{2} - \\lambda - \\mu\\end{matrix}\\right]$"
      ],
      "text/plain": [
       "⎡-δ⋅ρ(t) - λ - τ         0           (1 - p)⋅β(t)    (1 - p)⋅β(t)⋅r(t)   (1 - \n",
       "⎢                                                                             \n",
       "⎢                                                              2              \n",
       "⎢       0         -δ⋅ρ(t) - λ - τ    p⋅β(t)⋅r(t)       p⋅β(t)⋅r (t)      p⋅β(t\n",
       "⎢                                                                             \n",
       "⎢       τ                0          -λ - σ - ρ(t)            0                \n",
       "⎢                                                                             \n",
       "⎢       0                τ                0            -λ - σ - ρ(t)          \n",
       "⎢                                                                             \n",
       "⎢       0                0               α⋅σ                 0          -γ₁ - \n",
       "⎢                                                                             \n",
       "⎢       0                0                0                 α⋅σ               \n",
       "⎢                                                                             \n",
       "⎣    δ⋅ρ(t)           δ⋅ρ(t)       σ⋅(1 - α) + ρ(t)  σ⋅(1 - α) + ρ(t)        ρ\n",
       "\n",
       "p)⋅β(t)   (1 - p)⋅β(t)⋅r(t)  ε⋅(1 - p)⋅β(t)⎤\n",
       "                                           ⎥\n",
       "                    2                      ⎥\n",
       ")⋅r(t)      p⋅β(t)⋅r (t)     ε⋅p⋅β(t)⋅r(t) ⎥\n",
       "                                           ⎥\n",
       "0                 0                0       ⎥\n",
       "                                           ⎥\n",
       "0                 0                0       ⎥\n",
       "                                           ⎥\n",
       "λ - ρ(t)          0                0       ⎥\n",
       "                                           ⎥\n",
       "0          -γ₁ - λ - ρ(t)          0       ⎥\n",
       "                                           ⎥\n",
       "(t)             ρ(t)          -γ₂ - λ - μ  ⎦"
      ]
     },
     "execution_count": 5,
     "metadata": {},
     "output_type": "execute_result"
    }
   ],
   "source": [
    "Blambda"
   ]
  },
  {
   "cell_type": "markdown",
   "metadata": {},
   "source": [
    "Calculating the determinant of this matrix (Characteristic polynomial), factorization and simplification with the eigenvalues already found. "
   ]
  },
  {
   "cell_type": "code",
   "execution_count": 5,
   "metadata": {},
   "outputs": [],
   "source": [
    "det = sp.det(Blambda)"
   ]
  },
  {
   "cell_type": "code",
   "execution_count": 6,
   "metadata": {},
   "outputs": [],
   "source": [
    "factoring = sp.factor(det)\n",
    "simp = factoring/((gamma1 + eigen + rho(t))*(eigen + sigma + rho(t))*(delta*rho(t) + eigen + tau))"
   ]
  },
  {
   "cell_type": "markdown",
   "metadata": {},
   "source": [
    "Now, let's consider $\\epsilon = 0$, to simplify. So, $\\lambda = - \\gamma_2 - \\mu$ will be a root, so, an eigenvalue. This is the resulting polynomial"
   ]
  },
  {
   "cell_type": "markdown",
   "metadata": {},
   "source": [
    "$${\\left(\\alpha \\beta p r^{2} \\sigma \\tau + \\beta \\lambda p r^{2} \\tau + \\beta \\gamma_{1} p r^{2} \\tau + \\beta p r^{2} \\rho \\tau - \\alpha \\beta p \\sigma \\tau - \\delta \\lambda^{2} \\rho - \\delta \\lambda \\gamma_{1} \\rho - 2 \\, \\delta \\lambda \\rho^{2} - \\delta \\gamma_{1} \\rho^{2} - \\delta \\rho^{3} - \\delta \\lambda \\rho \\sigma - \\delta \\gamma_{1} \\rho \\sigma - \\delta \\rho^{2} \\sigma - \\beta \\lambda p \\tau - \\beta \\gamma_{1} p \\tau - \\beta p \\rho \\tau + \\alpha \\beta \\sigma \\tau - \\lambda^{3} - \\lambda^{2} \\gamma_{1} - 2 \\, \\lambda^{2} \\rho - \\lambda \\gamma_{1} \\rho - \\lambda \\rho^{2} - \\lambda^{2} \\sigma - \\lambda \\gamma_{1} \\sigma - \\lambda \\rho \\sigma + \\beta \\lambda \\tau - \\lambda^{2} \\tau + \\beta \\gamma_{1} \\tau - \\lambda \\gamma_{1} \\tau + \\beta \\rho \\tau - 2 \\, \\lambda \\rho \\tau - \\gamma_{1} \\rho \\tau - \\rho^{2} \\tau - \\lambda \\sigma \\tau - \\gamma_{1} \\sigma \\tau - \\rho \\sigma \\tau\\right)}$$\n",
    "\n",
    "$$\\alpha \\beta p r^{2} \\sigma \\tau + \\beta \\gamma_{1} p r^{2} \\tau + \\beta p r^{2} \\rho \\tau - \\alpha \\beta p \\sigma \\tau - \\delta \\gamma_{1} \\rho^{2} - \\delta \\rho^{3} - \\delta \\gamma_{1} \\rho \\sigma - \\delta \\rho^{2} \\sigma - \\beta \\gamma_{1} p \\tau - \\beta p \\rho \\tau + \\alpha \\beta \\sigma \\tau - {\\left(\\delta \\rho + \\gamma_{1} + 2 \\, \\rho + \\sigma + \\tau\\right)} \\lambda^{2} - \\lambda^{3} + \\beta \\gamma_{1} \\tau + \\beta \\rho \\tau - \\gamma_{1} \\rho \\tau - \\rho^{2} \\tau - \\gamma_{1} \\sigma \\tau - \\rho \\sigma \\tau + {\\left(\\beta p r^{2} \\tau - \\delta \\gamma_{1} \\rho - 2 \\, \\delta \\rho^{2} - \\delta \\rho \\sigma - \\beta p \\tau - \\gamma_{1} \\rho - \\rho^{2} - \\gamma_{1} \\sigma - \\rho \\sigma + \\beta \\tau - \\gamma_{1} \\tau - 2 \\, \\rho \\tau - \\sigma \\tau\\right)} \\lambda\n",
    "$$\n"
   ]
  },
  {
   "cell_type": "code",
   "execution_count": 44,
   "metadata": {},
   "outputs": [],
   "source": [
    "lambd = sp.symbols(\"lambda\")\n",
    "P1 = lambda lamb: rho(t)*delta*r(t)*epsilon*beta(t)*p + rho(t)*delta*epsilon*beta(t)*(1 - p) - (rho(t)*delta + tau + lamb)*(gamma2 + mu + lamb)\n",
    "P2 = lambda lamb: beta(t)*(rho(t) + gamma1 + lamb)*(gamma2 + mu + lamb)*(1 - p + (r(t)**2)*p) + sigma*alpha*rho(t)*epsilon*beta(t)*(1 - p + r(t)*p) + (rho(t) + gamma1 + lamb)*(sigma*(1 - alpha) + rho(t))*epsilon*beta(t)*(1 - p + r(t)*p) + (gamma2 + mu + lamb)*sigma*alpha*beta(t)*(1 - p + (r(t)**2)*p)\n",
    "detBlambda_f = ((sigma + rho(t) + lambd)*(rho(t) + gamma1 + lambd)*P1(lambd) + tau*P2(lambd))"
   ]
  },
  {
   "cell_type": "markdown",
   "metadata": {},
   "source": [
    "### Thanks"
   ]
  }
 ],
 "metadata": {
  "kernelspec": {
   "display_name": "Python 3",
   "language": "python",
   "name": "python3"
  },
  "language_info": {
   "codemirror_mode": {
    "name": "ipython",
    "version": 3
   },
   "file_extension": ".py",
   "mimetype": "text/x-python",
   "name": "python",
   "nbconvert_exporter": "python",
   "pygments_lexer": "ipython3",
   "version": "3.7.3"
  }
 },
 "nbformat": 4,
 "nbformat_minor": 2
}